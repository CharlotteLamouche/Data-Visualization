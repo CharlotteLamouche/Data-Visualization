{
 "cells": [
  {
   "cell_type": "code",
   "execution_count": 115,
   "metadata": {
    "collapsed": true
   },
   "outputs": [],
   "source": [
    "import os\n",
    "import sys\n",
    "from operator import itemgetter\n",
    "from matplotlib import pyplot as plt\n",
    "import pandas as pd\n",
    "import numpy as np"
   ]
  },
  {
   "cell_type": "code",
   "execution_count": 116,
   "metadata": {
    "collapsed": true
   },
   "outputs": [],
   "source": [
    "f = '/Volumes/USB_CHA/Hackathon/data/UTSEUS-MOBIKE-shanghai_full.csv'"
   ]
  },
  {
   "cell_type": "code",
   "execution_count": 117,
   "metadata": {},
   "outputs": [],
   "source": [
    "mobike = pd.read_csv(f, sep=',')"
   ]
  },
  {
   "cell_type": "code",
   "execution_count": 149,
   "metadata": {},
   "outputs": [
    {
     "data": {
      "text/html": [
       "<div>\n",
       "<style>\n",
       "    .dataframe thead tr:only-child th {\n",
       "        text-align: right;\n",
       "    }\n",
       "\n",
       "    .dataframe thead th {\n",
       "        text-align: left;\n",
       "    }\n",
       "\n",
       "    .dataframe tbody tr th {\n",
       "        vertical-align: top;\n",
       "    }\n",
       "</style>\n",
       "<table border=\"1\" class=\"dataframe\">\n",
       "  <thead>\n",
       "    <tr style=\"text-align: right;\">\n",
       "      <th></th>\n",
       "      <th>orderid</th>\n",
       "      <th>bikeid</th>\n",
       "      <th>userid</th>\n",
       "      <th>start_time</th>\n",
       "      <th>start_location_x</th>\n",
       "      <th>start_location_y</th>\n",
       "      <th>end_time</th>\n",
       "      <th>end_location_x</th>\n",
       "      <th>end_location_y</th>\n",
       "      <th>track</th>\n",
       "    </tr>\n",
       "  </thead>\n",
       "  <tbody>\n",
       "    <tr>\n",
       "      <th>0</th>\n",
       "      <td>1</td>\n",
       "      <td>324731</td>\n",
       "      <td>7541</td>\n",
       "      <td>2016-08-28 00:00</td>\n",
       "      <td>121.490</td>\n",
       "      <td>31.280</td>\n",
       "      <td>2016-08-28 00:08</td>\n",
       "      <td>121.486</td>\n",
       "      <td>31.273</td>\n",
       "      <td>121.485,31.275#121.485,31.276#121.486,31.273#1...</td>\n",
       "    </tr>\n",
       "    <tr>\n",
       "      <th>1</th>\n",
       "      <td>6</td>\n",
       "      <td>288841</td>\n",
       "      <td>4427</td>\n",
       "      <td>2016-08-28 00:00</td>\n",
       "      <td>121.462</td>\n",
       "      <td>31.313</td>\n",
       "      <td>2016-08-28 00:17</td>\n",
       "      <td>121.455</td>\n",
       "      <td>31.315</td>\n",
       "      <td>121.455,31.313#121.455,31.314#121.455,31.315#1...</td>\n",
       "    </tr>\n",
       "    <tr>\n",
       "      <th>2</th>\n",
       "      <td>8</td>\n",
       "      <td>315873</td>\n",
       "      <td>6474</td>\n",
       "      <td>2016-08-28 00:00</td>\n",
       "      <td>121.416</td>\n",
       "      <td>31.154</td>\n",
       "      <td>2016-08-28 00:14</td>\n",
       "      <td>121.419</td>\n",
       "      <td>31.156</td>\n",
       "      <td>121.416,31.154#121.416,31.155#121.417,31.155#1...</td>\n",
       "    </tr>\n",
       "    <tr>\n",
       "      <th>3</th>\n",
       "      <td>10</td>\n",
       "      <td>93155</td>\n",
       "      <td>12616</td>\n",
       "      <td>2016-08-28 00:00</td>\n",
       "      <td>121.436</td>\n",
       "      <td>31.320</td>\n",
       "      <td>2016-08-28 00:12</td>\n",
       "      <td>121.444</td>\n",
       "      <td>31.310</td>\n",
       "      <td>121.436,31.318#121.436,31.319#121.436,31.320#1...</td>\n",
       "    </tr>\n",
       "    <tr>\n",
       "      <th>4</th>\n",
       "      <td>11</td>\n",
       "      <td>352484</td>\n",
       "      <td>11596</td>\n",
       "      <td>2016-08-28 00:00</td>\n",
       "      <td>121.459</td>\n",
       "      <td>31.325</td>\n",
       "      <td>2016-08-28 00:08</td>\n",
       "      <td>121.460</td>\n",
       "      <td>31.315</td>\n",
       "      <td>121.459,31.315#121.459,31.316#121.459,31.317#1...</td>\n",
       "    </tr>\n",
       "  </tbody>\n",
       "</table>\n",
       "</div>"
      ],
      "text/plain": [
       "   orderid  bikeid  userid        start_time  start_location_x  \\\n",
       "0        1  324731    7541  2016-08-28 00:00           121.490   \n",
       "1        6  288841    4427  2016-08-28 00:00           121.462   \n",
       "2        8  315873    6474  2016-08-28 00:00           121.416   \n",
       "3       10   93155   12616  2016-08-28 00:00           121.436   \n",
       "4       11  352484   11596  2016-08-28 00:00           121.459   \n",
       "\n",
       "   start_location_y          end_time  end_location_x  end_location_y  \\\n",
       "0            31.280  2016-08-28 00:08         121.486          31.273   \n",
       "1            31.313  2016-08-28 00:17         121.455          31.315   \n",
       "2            31.154  2016-08-28 00:14         121.419          31.156   \n",
       "3            31.320  2016-08-28 00:12         121.444          31.310   \n",
       "4            31.325  2016-08-28 00:08         121.460          31.315   \n",
       "\n",
       "                                               track  \n",
       "0  121.485,31.275#121.485,31.276#121.486,31.273#1...  \n",
       "1  121.455,31.313#121.455,31.314#121.455,31.315#1...  \n",
       "2  121.416,31.154#121.416,31.155#121.417,31.155#1...  \n",
       "3  121.436,31.318#121.436,31.319#121.436,31.320#1...  \n",
       "4  121.459,31.315#121.459,31.316#121.459,31.317#1...  "
      ]
     },
     "execution_count": 149,
     "metadata": {},
     "output_type": "execute_result"
    }
   ],
   "source": [
    "data = mobike #remove sample for final data\n",
    "data.head()"
   ]
  },
  {
   "cell_type": "code",
   "execution_count": 150,
   "metadata": {},
   "outputs": [
    {
     "data": {
      "text/html": [
       "<div>\n",
       "<style>\n",
       "    .dataframe thead tr:only-child th {\n",
       "        text-align: right;\n",
       "    }\n",
       "\n",
       "    .dataframe thead th {\n",
       "        text-align: left;\n",
       "    }\n",
       "\n",
       "    .dataframe tbody tr th {\n",
       "        vertical-align: top;\n",
       "    }\n",
       "</style>\n",
       "<table border=\"1\" class=\"dataframe\">\n",
       "  <thead>\n",
       "    <tr style=\"text-align: right;\">\n",
       "      <th></th>\n",
       "      <th>orderid</th>\n",
       "      <th>bikeid</th>\n",
       "      <th>userid</th>\n",
       "      <th>start_location_x</th>\n",
       "      <th>start_location_y</th>\n",
       "      <th>end_location_x</th>\n",
       "      <th>end_location_y</th>\n",
       "    </tr>\n",
       "  </thead>\n",
       "  <tbody>\n",
       "    <tr>\n",
       "      <th>count</th>\n",
       "      <td>1.023603e+06</td>\n",
       "      <td>1.023603e+06</td>\n",
       "      <td>1.023603e+06</td>\n",
       "      <td>1.023603e+06</td>\n",
       "      <td>1.023603e+06</td>\n",
       "      <td>1.023603e+06</td>\n",
       "      <td>1.023603e+06</td>\n",
       "    </tr>\n",
       "    <tr>\n",
       "      <th>mean</th>\n",
       "      <td>8.931520e+05</td>\n",
       "      <td>1.556392e+05</td>\n",
       "      <td>7.831266e+03</td>\n",
       "      <td>1.214541e+02</td>\n",
       "      <td>3.125169e+01</td>\n",
       "      <td>1.214538e+02</td>\n",
       "      <td>3.125195e+01</td>\n",
       "    </tr>\n",
       "    <tr>\n",
       "      <th>std</th>\n",
       "      <td>5.215483e+05</td>\n",
       "      <td>9.899988e+04</td>\n",
       "      <td>4.533025e+03</td>\n",
       "      <td>8.587387e-02</td>\n",
       "      <td>6.041155e-02</td>\n",
       "      <td>6.311363e-02</td>\n",
       "      <td>6.715528e-02</td>\n",
       "    </tr>\n",
       "    <tr>\n",
       "      <th>min</th>\n",
       "      <td>1.000000e+00</td>\n",
       "      <td>0.000000e+00</td>\n",
       "      <td>0.000000e+00</td>\n",
       "      <td>6.103850e+01</td>\n",
       "      <td>3.079500e+01</td>\n",
       "      <td>1.139490e+02</td>\n",
       "      <td>2.253200e+01</td>\n",
       "    </tr>\n",
       "    <tr>\n",
       "      <th>25%</th>\n",
       "      <td>4.396355e+05</td>\n",
       "      <td>7.475700e+04</td>\n",
       "      <td>4.082000e+03</td>\n",
       "      <td>1.214150e+02</td>\n",
       "      <td>3.121200e+01</td>\n",
       "      <td>1.214140e+02</td>\n",
       "      <td>3.121200e+01</td>\n",
       "    </tr>\n",
       "    <tr>\n",
       "      <th>50%</th>\n",
       "      <td>8.901180e+05</td>\n",
       "      <td>1.417180e+05</td>\n",
       "      <td>7.625000e+03</td>\n",
       "      <td>1.214560e+02</td>\n",
       "      <td>3.126000e+01</td>\n",
       "      <td>1.214560e+02</td>\n",
       "      <td>3.126000e+01</td>\n",
       "    </tr>\n",
       "    <tr>\n",
       "      <th>75%</th>\n",
       "      <td>1.341202e+06</td>\n",
       "      <td>2.290430e+05</td>\n",
       "      <td>1.127600e+04</td>\n",
       "      <td>1.214970e+02</td>\n",
       "      <td>3.129400e+01</td>\n",
       "      <td>1.214970e+02</td>\n",
       "      <td>3.129400e+01</td>\n",
       "    </tr>\n",
       "    <tr>\n",
       "      <th>max</th>\n",
       "      <td>1.807865e+06</td>\n",
       "      <td>3.873540e+05</td>\n",
       "      <td>1.775600e+04</td>\n",
       "      <td>1.219730e+02</td>\n",
       "      <td>4.000900e+01</td>\n",
       "      <td>1.266810e+02</td>\n",
       "      <td>5.853700e+01</td>\n",
       "    </tr>\n",
       "  </tbody>\n",
       "</table>\n",
       "</div>"
      ],
      "text/plain": [
       "            orderid        bikeid        userid  start_location_x  \\\n",
       "count  1.023603e+06  1.023603e+06  1.023603e+06      1.023603e+06   \n",
       "mean   8.931520e+05  1.556392e+05  7.831266e+03      1.214541e+02   \n",
       "std    5.215483e+05  9.899988e+04  4.533025e+03      8.587387e-02   \n",
       "min    1.000000e+00  0.000000e+00  0.000000e+00      6.103850e+01   \n",
       "25%    4.396355e+05  7.475700e+04  4.082000e+03      1.214150e+02   \n",
       "50%    8.901180e+05  1.417180e+05  7.625000e+03      1.214560e+02   \n",
       "75%    1.341202e+06  2.290430e+05  1.127600e+04      1.214970e+02   \n",
       "max    1.807865e+06  3.873540e+05  1.775600e+04      1.219730e+02   \n",
       "\n",
       "       start_location_y  end_location_x  end_location_y  \n",
       "count      1.023603e+06    1.023603e+06    1.023603e+06  \n",
       "mean       3.125169e+01    1.214538e+02    3.125195e+01  \n",
       "std        6.041155e-02    6.311363e-02    6.715528e-02  \n",
       "min        3.079500e+01    1.139490e+02    2.253200e+01  \n",
       "25%        3.121200e+01    1.214140e+02    3.121200e+01  \n",
       "50%        3.126000e+01    1.214560e+02    3.126000e+01  \n",
       "75%        3.129400e+01    1.214970e+02    3.129400e+01  \n",
       "max        4.000900e+01    1.266810e+02    5.853700e+01  "
      ]
     },
     "execution_count": 150,
     "metadata": {},
     "output_type": "execute_result"
    }
   ],
   "source": [
    "data.describe()"
   ]
  },
  {
   "cell_type": "code",
   "execution_count": 151,
   "metadata": {
    "collapsed": true
   },
   "outputs": [],
   "source": [
    "data_opt = data[['start_location_x','start_location_y','start_time']]"
   ]
  },
  {
   "cell_type": "code",
   "execution_count": 152,
   "metadata": {},
   "outputs": [
    {
     "data": {
      "text/html": [
       "<div>\n",
       "<style>\n",
       "    .dataframe thead tr:only-child th {\n",
       "        text-align: right;\n",
       "    }\n",
       "\n",
       "    .dataframe thead th {\n",
       "        text-align: left;\n",
       "    }\n",
       "\n",
       "    .dataframe tbody tr th {\n",
       "        vertical-align: top;\n",
       "    }\n",
       "</style>\n",
       "<table border=\"1\" class=\"dataframe\">\n",
       "  <thead>\n",
       "    <tr style=\"text-align: right;\">\n",
       "      <th></th>\n",
       "      <th>start_location_x</th>\n",
       "      <th>start_location_y</th>\n",
       "      <th>start_time</th>\n",
       "    </tr>\n",
       "  </thead>\n",
       "  <tbody>\n",
       "    <tr>\n",
       "      <th>0</th>\n",
       "      <td>121.490</td>\n",
       "      <td>31.280</td>\n",
       "      <td>2016-08-28 00:00</td>\n",
       "    </tr>\n",
       "    <tr>\n",
       "      <th>1</th>\n",
       "      <td>121.462</td>\n",
       "      <td>31.313</td>\n",
       "      <td>2016-08-28 00:00</td>\n",
       "    </tr>\n",
       "    <tr>\n",
       "      <th>2</th>\n",
       "      <td>121.416</td>\n",
       "      <td>31.154</td>\n",
       "      <td>2016-08-28 00:00</td>\n",
       "    </tr>\n",
       "    <tr>\n",
       "      <th>3</th>\n",
       "      <td>121.436</td>\n",
       "      <td>31.320</td>\n",
       "      <td>2016-08-28 00:00</td>\n",
       "    </tr>\n",
       "    <tr>\n",
       "      <th>4</th>\n",
       "      <td>121.459</td>\n",
       "      <td>31.325</td>\n",
       "      <td>2016-08-28 00:00</td>\n",
       "    </tr>\n",
       "  </tbody>\n",
       "</table>\n",
       "</div>"
      ],
      "text/plain": [
       "   start_location_x  start_location_y        start_time\n",
       "0           121.490            31.280  2016-08-28 00:00\n",
       "1           121.462            31.313  2016-08-28 00:00\n",
       "2           121.416            31.154  2016-08-28 00:00\n",
       "3           121.436            31.320  2016-08-28 00:00\n",
       "4           121.459            31.325  2016-08-28 00:00"
      ]
     },
     "execution_count": 152,
     "metadata": {},
     "output_type": "execute_result"
    }
   ],
   "source": [
    "data_opt.head()"
   ]
  },
  {
   "cell_type": "code",
   "execution_count": 153,
   "metadata": {},
   "outputs": [],
   "source": [
    "def time_string_to_decimals(time_string):\n",
    "    time_string = (str(time_string)[-5:])\n",
    "    fields = time_string.split(\":\")\n",
    "    hours = fields[0] if len(fields) > 0 else 0.0\n",
    "    minutes = fields[1] if len(fields) > 1 else 0.0\n",
    "\n",
    "    return float(hours) + (float(minutes) / 60.0)"
   ]
  },
  {
   "cell_type": "code",
   "execution_count": 154,
   "metadata": {},
   "outputs": [],
   "source": [
    "data_hour['start_time'] = data_opt['start_time'].apply(time_string_to_decimals)"
   ]
  },
  {
   "cell_type": "code",
   "execution_count": null,
   "metadata": {
    "collapsed": true
   },
   "outputs": [],
   "source": []
  },
  {
   "cell_type": "code",
   "execution_count": null,
   "metadata": {},
   "outputs": [],
   "source": []
  },
  {
   "cell_type": "code",
   "execution_count": 155,
   "metadata": {},
   "outputs": [
    {
     "data": {
      "text/plain": [
       "0    0.0\n",
       "1    0.0\n",
       "2    0.0\n",
       "3    0.0\n",
       "4    0.0\n",
       "Name: start_time, dtype: float64"
      ]
     },
     "execution_count": 155,
     "metadata": {},
     "output_type": "execute_result"
    }
   ],
   "source": [
    "data_hour['start_time'].head()"
   ]
  },
  {
   "cell_type": "code",
   "execution_count": 156,
   "metadata": {},
   "outputs": [
    {
     "name": "stderr",
     "output_type": "stream",
     "text": [
      "/Users/charlotte/anaconda/lib/python2.7/site-packages/ipykernel_launcher.py:1: SettingWithCopyWarning: \n",
      "A value is trying to be set on a copy of a slice from a DataFrame.\n",
      "Try using .loc[row_indexer,col_indexer] = value instead\n",
      "\n",
      "See the caveats in the documentation: http://pandas.pydata.org/pandas-docs/stable/indexing.html#indexing-view-versus-copy\n",
      "  \"\"\"Entry point for launching an IPython kernel.\n"
     ]
    },
    {
     "data": {
      "text/html": [
       "<div>\n",
       "<style>\n",
       "    .dataframe thead tr:only-child th {\n",
       "        text-align: right;\n",
       "    }\n",
       "\n",
       "    .dataframe thead th {\n",
       "        text-align: left;\n",
       "    }\n",
       "\n",
       "    .dataframe tbody tr th {\n",
       "        vertical-align: top;\n",
       "    }\n",
       "</style>\n",
       "<table border=\"1\" class=\"dataframe\">\n",
       "  <thead>\n",
       "    <tr style=\"text-align: right;\">\n",
       "      <th></th>\n",
       "      <th>start_location_x</th>\n",
       "      <th>start_location_y</th>\n",
       "      <th>start_time</th>\n",
       "    </tr>\n",
       "  </thead>\n",
       "  <tbody>\n",
       "    <tr>\n",
       "      <th>0</th>\n",
       "      <td>121.490</td>\n",
       "      <td>31.280</td>\n",
       "      <td>0.0</td>\n",
       "    </tr>\n",
       "    <tr>\n",
       "      <th>1</th>\n",
       "      <td>121.462</td>\n",
       "      <td>31.313</td>\n",
       "      <td>0.0</td>\n",
       "    </tr>\n",
       "    <tr>\n",
       "      <th>2</th>\n",
       "      <td>121.416</td>\n",
       "      <td>31.154</td>\n",
       "      <td>0.0</td>\n",
       "    </tr>\n",
       "    <tr>\n",
       "      <th>3</th>\n",
       "      <td>121.436</td>\n",
       "      <td>31.320</td>\n",
       "      <td>0.0</td>\n",
       "    </tr>\n",
       "    <tr>\n",
       "      <th>4</th>\n",
       "      <td>121.459</td>\n",
       "      <td>31.325</td>\n",
       "      <td>0.0</td>\n",
       "    </tr>\n",
       "  </tbody>\n",
       "</table>\n",
       "</div>"
      ],
      "text/plain": [
       "   start_location_x  start_location_y  start_time\n",
       "0           121.490            31.280         0.0\n",
       "1           121.462            31.313         0.0\n",
       "2           121.416            31.154         0.0\n",
       "3           121.436            31.320         0.0\n",
       "4           121.459            31.325         0.0"
      ]
     },
     "execution_count": 156,
     "metadata": {},
     "output_type": "execute_result"
    }
   ],
   "source": [
    "data_opt['start_time'] = data_hour.loc['start_time']\n",
    "data_opt.head()"
   ]
  },
  {
   "cell_type": "code",
   "execution_count": null,
   "metadata": {},
   "outputs": [],
   "source": [
    "from datetime import datetime, timedelta\n",
    " \n",
    "def date_to_minute(duration):\n",
    "    nb_minutes = round(duration.total_seconds()/60)\n",
    "    return nb_minutes\n",
    "\n",
    "def str_to_datetime(string):\n",
    "    return datetime.strptime(string, '%Y-%m-%d %H:%M')\n",
    "\n",
    "data_opt['duration'] = (data['end_time'].apply(str_to_datetime) - data['start_time'].apply(str_to_datetime))\n",
    "data_opt['duration'].head()"
   ]
  },
  {
   "cell_type": "code",
   "execution_count": 144,
   "metadata": {},
   "outputs": [
    {
     "data": {
      "text/plain": [
       "count                       500\n",
       "mean     0 days 00:16:53.040000\n",
       "std      0 days 00:16:18.007236\n",
       "min             0 days 00:01:00\n",
       "25%             0 days 00:07:00\n",
       "50%             0 days 00:12:00\n",
       "75%             0 days 00:19:00\n",
       "max             0 days 02:27:00\n",
       "Name: duration, dtype: object"
      ]
     },
     "execution_count": 144,
     "metadata": {},
     "output_type": "execute_result"
    }
   ],
   "source": [
    "data_opt['duration'].describe()"
   ]
  },
  {
   "cell_type": "code",
   "execution_count": 145,
   "metadata": {},
   "outputs": [
    {
     "name": "stderr",
     "output_type": "stream",
     "text": [
      "/Users/charlotte/anaconda/lib/python2.7/site-packages/ipykernel_launcher.py:1: SettingWithCopyWarning: \n",
      "A value is trying to be set on a copy of a slice from a DataFrame.\n",
      "Try using .loc[row_indexer,col_indexer] = value instead\n",
      "\n",
      "See the caveats in the documentation: http://pandas.pydata.org/pandas-docs/stable/indexing.html#indexing-view-versus-copy\n",
      "  \"\"\"Entry point for launching an IPython kernel.\n"
     ]
    },
    {
     "data": {
      "text/plain": [
       "673940    12.0\n",
       "531938    22.0\n",
       "219736     8.0\n",
       "266030    10.0\n",
       "808702    19.0\n",
       "Name: duration, dtype: float64"
      ]
     },
     "execution_count": 145,
     "metadata": {},
     "output_type": "execute_result"
    }
   ],
   "source": [
    "data_opt['duration'] = data_opt['duration'].apply(date_to_minute)\n",
    "data_opt['duration'].head()"
   ]
  },
  {
   "cell_type": "code",
   "execution_count": 146,
   "metadata": {},
   "outputs": [
    {
     "data": {
      "text/plain": [
       "count    500.000000\n",
       "mean      16.884000\n",
       "std       16.300121\n",
       "min        1.000000\n",
       "25%        7.000000\n",
       "50%       12.000000\n",
       "75%       19.000000\n",
       "max      147.000000\n",
       "Name: duration, dtype: float64"
      ]
     },
     "execution_count": 146,
     "metadata": {},
     "output_type": "execute_result"
    }
   ],
   "source": [
    "data_opt['duration'].describe()"
   ]
  },
  {
   "cell_type": "code",
   "execution_count": 147,
   "metadata": {},
   "outputs": [
    {
     "data": {
      "text/plain": [
       "0.17     6.0\n",
       "0.33     9.0\n",
       "0.50    12.0\n",
       "0.67    16.0\n",
       "0.83    25.0\n",
       "Name: duration, dtype: float64"
      ]
     },
     "execution_count": 147,
     "metadata": {},
     "output_type": "execute_result"
    }
   ],
   "source": [
    "data_opt['duration'].quantile([0.17, 0.33, .5, .67, .83])"
   ]
  },
  {
   "cell_type": "code",
   "execution_count": 148,
   "metadata": {},
   "outputs": [],
   "source": [
    "data_opt.to_csv('mobike_sample_hour_duration_2.csv')"
   ]
  },
  {
   "cell_type": "code",
   "execution_count": null,
   "metadata": {
    "collapsed": true
   },
   "outputs": [],
   "source": []
  }
 ],
 "metadata": {
  "kernelspec": {
   "display_name": "Python 2",
   "language": "python",
   "name": "python2"
  },
  "language_info": {
   "codemirror_mode": {
    "name": "ipython",
    "version": 2
   },
   "file_extension": ".py",
   "mimetype": "text/x-python",
   "name": "python",
   "nbconvert_exporter": "python",
   "pygments_lexer": "ipython2",
   "version": "2.7.13"
  }
 },
 "nbformat": 4,
 "nbformat_minor": 2
}
