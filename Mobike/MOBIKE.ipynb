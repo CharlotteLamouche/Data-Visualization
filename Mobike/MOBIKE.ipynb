{
 "cells": [
  {
   "cell_type": "code",
   "execution_count": 115,
   "metadata": {
    "collapsed": true
   },
   "outputs": [],
   "source": [
    "import os\n",
    "import sys\n",
    "from operator import itemgetter\n",
    "from matplotlib import pyplot as plt\n",
    "import pandas as pd\n",
    "import numpy as np"
   ]
  },
  {
   "cell_type": "code",
   "execution_count": 116,
   "metadata": {
    "collapsed": true
   },
   "outputs": [],
   "source": [
    "f = '/Volumes/USB_CHA/Hackathon/data/UTSEUS-MOBIKE-shanghai_full.csv'"
   ]
  },
  {
   "cell_type": "code",
   "execution_count": 117,
   "metadata": {},
   "outputs": [],
   "source": [
    "mobike = pd.read_csv(f, sep=',')"
   ]
  },
  {
   "cell_type": "code",
   "execution_count": 177,
   "metadata": {},
   "outputs": [
    {
     "data": {
      "text/html": [
       "<div>\n",
       "<style>\n",
       "    .dataframe thead tr:only-child th {\n",
       "        text-align: right;\n",
       "    }\n",
       "\n",
       "    .dataframe thead th {\n",
       "        text-align: left;\n",
       "    }\n",
       "\n",
       "    .dataframe tbody tr th {\n",
       "        vertical-align: top;\n",
       "    }\n",
       "</style>\n",
       "<table border=\"1\" class=\"dataframe\">\n",
       "  <thead>\n",
       "    <tr style=\"text-align: right;\">\n",
       "      <th></th>\n",
       "      <th>orderid</th>\n",
       "      <th>bikeid</th>\n",
       "      <th>userid</th>\n",
       "      <th>start_time</th>\n",
       "      <th>start_location_x</th>\n",
       "      <th>start_location_y</th>\n",
       "      <th>end_time</th>\n",
       "      <th>end_location_x</th>\n",
       "      <th>end_location_y</th>\n",
       "      <th>track</th>\n",
       "    </tr>\n",
       "  </thead>\n",
       "  <tbody>\n",
       "    <tr>\n",
       "      <th>596989</th>\n",
       "      <td>1040717</td>\n",
       "      <td>105333</td>\n",
       "      <td>5953</td>\n",
       "      <td>2016-08-08 17:51</td>\n",
       "      <td>121.474</td>\n",
       "      <td>31.334</td>\n",
       "      <td>2016-08-08 17:53</td>\n",
       "      <td>121.476</td>\n",
       "      <td>31.335</td>\n",
       "      <td>121.474,31.334#121.475,31.334#121.475,31.335#1...</td>\n",
       "    </tr>\n",
       "    <tr>\n",
       "      <th>390936</th>\n",
       "      <td>673822</td>\n",
       "      <td>20140</td>\n",
       "      <td>11764</td>\n",
       "      <td>2016-08-13 11:15</td>\n",
       "      <td>121.462</td>\n",
       "      <td>31.203</td>\n",
       "      <td>2016-08-13 11:26</td>\n",
       "      <td>121.454</td>\n",
       "      <td>31.207</td>\n",
       "      <td>121.454,31.207#121.455,31.207#121.455,31.208#1...</td>\n",
       "    </tr>\n",
       "    <tr>\n",
       "      <th>698262</th>\n",
       "      <td>1218608</td>\n",
       "      <td>171535</td>\n",
       "      <td>7849</td>\n",
       "      <td>2016-08-11 21:04</td>\n",
       "      <td>121.452</td>\n",
       "      <td>31.182</td>\n",
       "      <td>2016-08-11 21:15</td>\n",
       "      <td>121.443</td>\n",
       "      <td>31.184</td>\n",
       "      <td>121.443,31.183#121.443,31.184#121.444,31.180#1...</td>\n",
       "    </tr>\n",
       "    <tr>\n",
       "      <th>324193</th>\n",
       "      <td>557458</td>\n",
       "      <td>145654</td>\n",
       "      <td>8408</td>\n",
       "      <td>2016-08-20 16:41</td>\n",
       "      <td>121.494</td>\n",
       "      <td>31.349</td>\n",
       "      <td>2016-08-20 16:47</td>\n",
       "      <td>121.496</td>\n",
       "      <td>31.346</td>\n",
       "      <td>121.494,31.349#121.495,31.349#121.496,31.346#1...</td>\n",
       "    </tr>\n",
       "    <tr>\n",
       "      <th>762423</th>\n",
       "      <td>1331710</td>\n",
       "      <td>315806</td>\n",
       "      <td>15278</td>\n",
       "      <td>2016-08-30 16:23</td>\n",
       "      <td>121.406</td>\n",
       "      <td>31.193</td>\n",
       "      <td>2016-08-30 16:31</td>\n",
       "      <td>121.403</td>\n",
       "      <td>31.198</td>\n",
       "      <td>121.403,31.198#121.404,31.193#121.404,31.194#1...</td>\n",
       "    </tr>\n",
       "  </tbody>\n",
       "</table>\n",
       "</div>"
      ],
      "text/plain": [
       "        orderid  bikeid  userid        start_time  start_location_x  \\\n",
       "596989  1040717  105333    5953  2016-08-08 17:51           121.474   \n",
       "390936   673822   20140   11764  2016-08-13 11:15           121.462   \n",
       "698262  1218608  171535    7849  2016-08-11 21:04           121.452   \n",
       "324193   557458  145654    8408  2016-08-20 16:41           121.494   \n",
       "762423  1331710  315806   15278  2016-08-30 16:23           121.406   \n",
       "\n",
       "        start_location_y          end_time  end_location_x  end_location_y  \\\n",
       "596989            31.334  2016-08-08 17:53         121.476          31.335   \n",
       "390936            31.203  2016-08-13 11:26         121.454          31.207   \n",
       "698262            31.182  2016-08-11 21:15         121.443          31.184   \n",
       "324193            31.349  2016-08-20 16:47         121.496          31.346   \n",
       "762423            31.193  2016-08-30 16:31         121.403          31.198   \n",
       "\n",
       "                                                    track  \n",
       "596989  121.474,31.334#121.475,31.334#121.475,31.335#1...  \n",
       "390936  121.454,31.207#121.455,31.207#121.455,31.208#1...  \n",
       "698262  121.443,31.183#121.443,31.184#121.444,31.180#1...  \n",
       "324193  121.494,31.349#121.495,31.349#121.496,31.346#1...  \n",
       "762423  121.403,31.198#121.404,31.193#121.404,31.194#1...  "
      ]
     },
     "execution_count": 177,
     "metadata": {},
     "output_type": "execute_result"
    }
   ],
   "source": [
    "data = mobike.sample(100000) #remove sample for final data\n",
    "data.head()"
   ]
  },
  {
   "cell_type": "code",
   "execution_count": 178,
   "metadata": {},
   "outputs": [
    {
     "data": {
      "text/html": [
       "<div>\n",
       "<style>\n",
       "    .dataframe thead tr:only-child th {\n",
       "        text-align: right;\n",
       "    }\n",
       "\n",
       "    .dataframe thead th {\n",
       "        text-align: left;\n",
       "    }\n",
       "\n",
       "    .dataframe tbody tr th {\n",
       "        vertical-align: top;\n",
       "    }\n",
       "</style>\n",
       "<table border=\"1\" class=\"dataframe\">\n",
       "  <thead>\n",
       "    <tr style=\"text-align: right;\">\n",
       "      <th></th>\n",
       "      <th>orderid</th>\n",
       "      <th>bikeid</th>\n",
       "      <th>userid</th>\n",
       "      <th>start_location_x</th>\n",
       "      <th>start_location_y</th>\n",
       "      <th>end_location_x</th>\n",
       "      <th>end_location_y</th>\n",
       "    </tr>\n",
       "  </thead>\n",
       "  <tbody>\n",
       "    <tr>\n",
       "      <th>count</th>\n",
       "      <td>1.000000e+05</td>\n",
       "      <td>100000.000000</td>\n",
       "      <td>100000.000000</td>\n",
       "      <td>100000.000000</td>\n",
       "      <td>100000.000000</td>\n",
       "      <td>100000.000000</td>\n",
       "      <td>100000.000000</td>\n",
       "    </tr>\n",
       "    <tr>\n",
       "      <th>mean</th>\n",
       "      <td>8.938208e+05</td>\n",
       "      <td>155342.377860</td>\n",
       "      <td>7865.797920</td>\n",
       "      <td>121.454203</td>\n",
       "      <td>31.252049</td>\n",
       "      <td>121.453731</td>\n",
       "      <td>31.252184</td>\n",
       "    </tr>\n",
       "    <tr>\n",
       "      <th>std</th>\n",
       "      <td>5.219851e+05</td>\n",
       "      <td>99045.921497</td>\n",
       "      <td>4542.954413</td>\n",
       "      <td>0.062836</td>\n",
       "      <td>0.063498</td>\n",
       "      <td>0.067867</td>\n",
       "      <td>0.070022</td>\n",
       "    </tr>\n",
       "    <tr>\n",
       "      <th>min</th>\n",
       "      <td>6.000000e+00</td>\n",
       "      <td>3.000000</td>\n",
       "      <td>0.000000</td>\n",
       "      <td>116.349000</td>\n",
       "      <td>30.910000</td>\n",
       "      <td>113.949000</td>\n",
       "      <td>22.532000</td>\n",
       "    </tr>\n",
       "    <tr>\n",
       "      <th>25%</th>\n",
       "      <td>4.392208e+05</td>\n",
       "      <td>74474.000000</td>\n",
       "      <td>4107.000000</td>\n",
       "      <td>121.415000</td>\n",
       "      <td>31.212000</td>\n",
       "      <td>121.414000</td>\n",
       "      <td>31.213000</td>\n",
       "    </tr>\n",
       "    <tr>\n",
       "      <th>50%</th>\n",
       "      <td>8.897180e+05</td>\n",
       "      <td>141658.500000</td>\n",
       "      <td>7662.000000</td>\n",
       "      <td>121.456000</td>\n",
       "      <td>31.261000</td>\n",
       "      <td>121.456000</td>\n",
       "      <td>31.261000</td>\n",
       "    </tr>\n",
       "    <tr>\n",
       "      <th>75%</th>\n",
       "      <td>1.343100e+06</td>\n",
       "      <td>228740.250000</td>\n",
       "      <td>11319.000000</td>\n",
       "      <td>121.497000</td>\n",
       "      <td>31.294000</td>\n",
       "      <td>121.497000</td>\n",
       "      <td>31.294000</td>\n",
       "    </tr>\n",
       "    <tr>\n",
       "      <th>max</th>\n",
       "      <td>1.807851e+06</td>\n",
       "      <td>387342.000000</td>\n",
       "      <td>17753.000000</td>\n",
       "      <td>121.772000</td>\n",
       "      <td>40.009000</td>\n",
       "      <td>121.777000</td>\n",
       "      <td>40.008000</td>\n",
       "    </tr>\n",
       "  </tbody>\n",
       "</table>\n",
       "</div>"
      ],
      "text/plain": [
       "            orderid         bikeid         userid  start_location_x  \\\n",
       "count  1.000000e+05  100000.000000  100000.000000     100000.000000   \n",
       "mean   8.938208e+05  155342.377860    7865.797920        121.454203   \n",
       "std    5.219851e+05   99045.921497    4542.954413          0.062836   \n",
       "min    6.000000e+00       3.000000       0.000000        116.349000   \n",
       "25%    4.392208e+05   74474.000000    4107.000000        121.415000   \n",
       "50%    8.897180e+05  141658.500000    7662.000000        121.456000   \n",
       "75%    1.343100e+06  228740.250000   11319.000000        121.497000   \n",
       "max    1.807851e+06  387342.000000   17753.000000        121.772000   \n",
       "\n",
       "       start_location_y  end_location_x  end_location_y  \n",
       "count     100000.000000   100000.000000   100000.000000  \n",
       "mean          31.252049      121.453731       31.252184  \n",
       "std            0.063498        0.067867        0.070022  \n",
       "min           30.910000      113.949000       22.532000  \n",
       "25%           31.212000      121.414000       31.213000  \n",
       "50%           31.261000      121.456000       31.261000  \n",
       "75%           31.294000      121.497000       31.294000  \n",
       "max           40.009000      121.777000       40.008000  "
      ]
     },
     "execution_count": 178,
     "metadata": {},
     "output_type": "execute_result"
    }
   ],
   "source": [
    "data.describe()"
   ]
  },
  {
   "cell_type": "code",
   "execution_count": 179,
   "metadata": {
    "collapsed": true
   },
   "outputs": [],
   "source": [
    "data_opt = data[['start_location_x','start_location_y','start_time']]"
   ]
  },
  {
   "cell_type": "code",
   "execution_count": 180,
   "metadata": {},
   "outputs": [
    {
     "data": {
      "text/html": [
       "<div>\n",
       "<style>\n",
       "    .dataframe thead tr:only-child th {\n",
       "        text-align: right;\n",
       "    }\n",
       "\n",
       "    .dataframe thead th {\n",
       "        text-align: left;\n",
       "    }\n",
       "\n",
       "    .dataframe tbody tr th {\n",
       "        vertical-align: top;\n",
       "    }\n",
       "</style>\n",
       "<table border=\"1\" class=\"dataframe\">\n",
       "  <thead>\n",
       "    <tr style=\"text-align: right;\">\n",
       "      <th></th>\n",
       "      <th>start_location_x</th>\n",
       "      <th>start_location_y</th>\n",
       "      <th>start_time</th>\n",
       "    </tr>\n",
       "  </thead>\n",
       "  <tbody>\n",
       "    <tr>\n",
       "      <th>596989</th>\n",
       "      <td>121.474</td>\n",
       "      <td>31.334</td>\n",
       "      <td>2016-08-08 17:51</td>\n",
       "    </tr>\n",
       "    <tr>\n",
       "      <th>390936</th>\n",
       "      <td>121.462</td>\n",
       "      <td>31.203</td>\n",
       "      <td>2016-08-13 11:15</td>\n",
       "    </tr>\n",
       "    <tr>\n",
       "      <th>698262</th>\n",
       "      <td>121.452</td>\n",
       "      <td>31.182</td>\n",
       "      <td>2016-08-11 21:04</td>\n",
       "    </tr>\n",
       "    <tr>\n",
       "      <th>324193</th>\n",
       "      <td>121.494</td>\n",
       "      <td>31.349</td>\n",
       "      <td>2016-08-20 16:41</td>\n",
       "    </tr>\n",
       "    <tr>\n",
       "      <th>762423</th>\n",
       "      <td>121.406</td>\n",
       "      <td>31.193</td>\n",
       "      <td>2016-08-30 16:23</td>\n",
       "    </tr>\n",
       "  </tbody>\n",
       "</table>\n",
       "</div>"
      ],
      "text/plain": [
       "        start_location_x  start_location_y        start_time\n",
       "596989           121.474            31.334  2016-08-08 17:51\n",
       "390936           121.462            31.203  2016-08-13 11:15\n",
       "698262           121.452            31.182  2016-08-11 21:04\n",
       "324193           121.494            31.349  2016-08-20 16:41\n",
       "762423           121.406            31.193  2016-08-30 16:23"
      ]
     },
     "execution_count": 180,
     "metadata": {},
     "output_type": "execute_result"
    }
   ],
   "source": [
    "data_opt.head()"
   ]
  },
  {
   "cell_type": "code",
   "execution_count": 181,
   "metadata": {},
   "outputs": [],
   "source": [
    "def time_string_to_decimals(time_string):\n",
    "    time_string = (str(time_string)[-5:])\n",
    "    fields = time_string.split(\":\")\n",
    "    hours = fields[0] if len(fields) > 0 else 0.0\n",
    "    minutes = fields[1] if len(fields) > 1 else 0.0\n",
    "\n",
    "    return float(hours) + (float(minutes) / 60.0)"
   ]
  },
  {
   "cell_type": "code",
   "execution_count": 182,
   "metadata": {},
   "outputs": [],
   "source": [
    "data_hour['start_time'] = data_opt['start_time'].apply(time_string_to_decimals)"
   ]
  },
  {
   "cell_type": "code",
   "execution_count": null,
   "metadata": {
    "collapsed": true
   },
   "outputs": [],
   "source": []
  },
  {
   "cell_type": "code",
   "execution_count": null,
   "metadata": {},
   "outputs": [],
   "source": []
  },
  {
   "cell_type": "code",
   "execution_count": 183,
   "metadata": {},
   "outputs": [
    {
     "data": {
      "text/plain": [
       "596989    17.850000\n",
       "390936    11.250000\n",
       "698262    21.066667\n",
       "324193    16.683333\n",
       "762423    16.383333\n",
       "Name: start_time, dtype: float64"
      ]
     },
     "execution_count": 183,
     "metadata": {},
     "output_type": "execute_result"
    }
   ],
   "source": [
    "data_hour['start_time'].head()"
   ]
  },
  {
   "cell_type": "code",
   "execution_count": 184,
   "metadata": {},
   "outputs": [
    {
     "name": "stderr",
     "output_type": "stream",
     "text": [
      "/Users/charlotte/anaconda/lib/python2.7/site-packages/ipykernel_launcher.py:1: SettingWithCopyWarning: \n",
      "A value is trying to be set on a copy of a slice from a DataFrame.\n",
      "Try using .loc[row_indexer,col_indexer] = value instead\n",
      "\n",
      "See the caveats in the documentation: http://pandas.pydata.org/pandas-docs/stable/indexing.html#indexing-view-versus-copy\n",
      "  \"\"\"Entry point for launching an IPython kernel.\n"
     ]
    },
    {
     "data": {
      "text/html": [
       "<div>\n",
       "<style>\n",
       "    .dataframe thead tr:only-child th {\n",
       "        text-align: right;\n",
       "    }\n",
       "\n",
       "    .dataframe thead th {\n",
       "        text-align: left;\n",
       "    }\n",
       "\n",
       "    .dataframe tbody tr th {\n",
       "        vertical-align: top;\n",
       "    }\n",
       "</style>\n",
       "<table border=\"1\" class=\"dataframe\">\n",
       "  <thead>\n",
       "    <tr style=\"text-align: right;\">\n",
       "      <th></th>\n",
       "      <th>start_location_x</th>\n",
       "      <th>start_location_y</th>\n",
       "      <th>start_time</th>\n",
       "    </tr>\n",
       "  </thead>\n",
       "  <tbody>\n",
       "    <tr>\n",
       "      <th>596989</th>\n",
       "      <td>121.474</td>\n",
       "      <td>31.334</td>\n",
       "      <td>17.850000</td>\n",
       "    </tr>\n",
       "    <tr>\n",
       "      <th>390936</th>\n",
       "      <td>121.462</td>\n",
       "      <td>31.203</td>\n",
       "      <td>11.250000</td>\n",
       "    </tr>\n",
       "    <tr>\n",
       "      <th>698262</th>\n",
       "      <td>121.452</td>\n",
       "      <td>31.182</td>\n",
       "      <td>21.066667</td>\n",
       "    </tr>\n",
       "    <tr>\n",
       "      <th>324193</th>\n",
       "      <td>121.494</td>\n",
       "      <td>31.349</td>\n",
       "      <td>16.683333</td>\n",
       "    </tr>\n",
       "    <tr>\n",
       "      <th>762423</th>\n",
       "      <td>121.406</td>\n",
       "      <td>31.193</td>\n",
       "      <td>16.383333</td>\n",
       "    </tr>\n",
       "  </tbody>\n",
       "</table>\n",
       "</div>"
      ],
      "text/plain": [
       "        start_location_x  start_location_y  start_time\n",
       "596989           121.474            31.334   17.850000\n",
       "390936           121.462            31.203   11.250000\n",
       "698262           121.452            31.182   21.066667\n",
       "324193           121.494            31.349   16.683333\n",
       "762423           121.406            31.193   16.383333"
      ]
     },
     "execution_count": 184,
     "metadata": {},
     "output_type": "execute_result"
    }
   ],
   "source": [
    "data_opt['start_time'] = data_hour.loc['start_time']\n",
    "data_opt.head()"
   ]
  },
  {
   "cell_type": "code",
   "execution_count": 185,
   "metadata": {},
   "outputs": [
    {
     "name": "stderr",
     "output_type": "stream",
     "text": [
      "/Users/charlotte/anaconda/lib/python2.7/site-packages/ipykernel_launcher.py:10: SettingWithCopyWarning: \n",
      "A value is trying to be set on a copy of a slice from a DataFrame.\n",
      "Try using .loc[row_indexer,col_indexer] = value instead\n",
      "\n",
      "See the caveats in the documentation: http://pandas.pydata.org/pandas-docs/stable/indexing.html#indexing-view-versus-copy\n",
      "  # Remove the CWD from sys.path while we load stuff.\n"
     ]
    },
    {
     "data": {
      "text/plain": [
       "596989   00:02:00\n",
       "390936   00:11:00\n",
       "698262   00:11:00\n",
       "324193   00:06:00\n",
       "762423   00:08:00\n",
       "Name: duration, dtype: timedelta64[ns]"
      ]
     },
     "execution_count": 185,
     "metadata": {},
     "output_type": "execute_result"
    }
   ],
   "source": [
    "from datetime import datetime, timedelta\n",
    " \n",
    "def date_to_minute(duration):\n",
    "    nb_minutes = round(duration.total_seconds()/60)\n",
    "    return nb_minutes\n",
    "\n",
    "def str_to_datetime(string):\n",
    "    return datetime.strptime(string, '%Y-%m-%d %H:%M')\n",
    "\n",
    "data_opt['duration'] = (data['end_time'].apply(str_to_datetime) - data['start_time'].apply(str_to_datetime))\n",
    "data_opt['duration'].head()"
   ]
  },
  {
   "cell_type": "code",
   "execution_count": 186,
   "metadata": {},
   "outputs": [
    {
     "data": {
      "text/plain": [
       "count                    100000\n",
       "mean     0 days 00:17:15.269400\n",
       "std      0 days 00:42:08.803855\n",
       "min             0 days 00:01:00\n",
       "25%             0 days 00:07:00\n",
       "50%             0 days 00:12:00\n",
       "75%             0 days 00:20:00\n",
       "max             5 days 11:05:00\n",
       "Name: duration, dtype: object"
      ]
     },
     "execution_count": 186,
     "metadata": {},
     "output_type": "execute_result"
    }
   ],
   "source": [
    "data_opt['duration'].describe()"
   ]
  },
  {
   "cell_type": "code",
   "execution_count": 187,
   "metadata": {},
   "outputs": [
    {
     "name": "stderr",
     "output_type": "stream",
     "text": [
      "/Users/charlotte/anaconda/lib/python2.7/site-packages/ipykernel_launcher.py:1: SettingWithCopyWarning: \n",
      "A value is trying to be set on a copy of a slice from a DataFrame.\n",
      "Try using .loc[row_indexer,col_indexer] = value instead\n",
      "\n",
      "See the caveats in the documentation: http://pandas.pydata.org/pandas-docs/stable/indexing.html#indexing-view-versus-copy\n",
      "  \"\"\"Entry point for launching an IPython kernel.\n"
     ]
    },
    {
     "data": {
      "text/plain": [
       "596989     2.0\n",
       "390936    11.0\n",
       "698262    11.0\n",
       "324193     6.0\n",
       "762423     8.0\n",
       "Name: duration, dtype: float64"
      ]
     },
     "execution_count": 187,
     "metadata": {},
     "output_type": "execute_result"
    }
   ],
   "source": [
    "data_opt['duration'] = data_opt['duration'].apply(date_to_minute)\n",
    "data_opt['duration'].head()"
   ]
  },
  {
   "cell_type": "code",
   "execution_count": 188,
   "metadata": {},
   "outputs": [
    {
     "data": {
      "text/plain": [
       "count    100000.000000\n",
       "mean         17.254490\n",
       "std          42.146731\n",
       "min           1.000000\n",
       "25%           7.000000\n",
       "50%          12.000000\n",
       "75%          20.000000\n",
       "max        7865.000000\n",
       "Name: duration, dtype: float64"
      ]
     },
     "execution_count": 188,
     "metadata": {},
     "output_type": "execute_result"
    }
   ],
   "source": [
    "data_opt['duration'].describe()"
   ]
  },
  {
   "cell_type": "code",
   "execution_count": 189,
   "metadata": {},
   "outputs": [
    {
     "data": {
      "text/plain": [
       "0.17     6.0\n",
       "0.33     8.0\n",
       "0.50    12.0\n",
       "0.67    16.0\n",
       "0.83    25.0\n",
       "Name: duration, dtype: float64"
      ]
     },
     "execution_count": 189,
     "metadata": {},
     "output_type": "execute_result"
    }
   ],
   "source": [
    "data_opt['duration'].quantile([0.17, 0.33, .5, .67, .83])"
   ]
  },
  {
   "cell_type": "code",
   "execution_count": 190,
   "metadata": {},
   "outputs": [],
   "source": [
    "data_opt.to_csv('mobike-100k.csv')"
   ]
  },
  {
   "cell_type": "code",
   "execution_count": null,
   "metadata": {
    "collapsed": true
   },
   "outputs": [],
   "source": []
  }
 ],
 "metadata": {
  "kernelspec": {
   "display_name": "Python 2",
   "language": "python",
   "name": "python2"
  },
  "language_info": {
   "codemirror_mode": {
    "name": "ipython",
    "version": 2
   },
   "file_extension": ".py",
   "mimetype": "text/x-python",
   "name": "python",
   "nbconvert_exporter": "python",
   "pygments_lexer": "ipython2",
   "version": "2.7.13"
  }
 },
 "nbformat": 4,
 "nbformat_minor": 2
}
